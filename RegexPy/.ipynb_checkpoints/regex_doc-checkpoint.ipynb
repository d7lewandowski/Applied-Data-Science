{
 "cells": [
  {
   "cell_type": "code",
   "execution_count": 16,
   "id": "14aad735",
   "metadata": {},
   "outputs": [],
   "source": [
    "import re"
   ]
  },
  {
   "cell_type": "markdown",
   "id": "74b2ae0a",
   "metadata": {},
   "source": [
    "(?<=...) matches if the current postion in the string is preceded by a match for ... that ends current postion.\\\n",
    "This is called a **positive lookbehind assertion**."
   ]
  },
  {
   "cell_type": "code",
   "execution_count": 17,
   "id": "19873f55",
   "metadata": {},
   "outputs": [
    {
     "data": {
      "text/plain": [
       "'def'"
      ]
     },
     "execution_count": 17,
     "metadata": {},
     "output_type": "execute_result"
    }
   ],
   "source": [
    "m = re.search('(?<=abc)def', 'abcdef')\n",
    "m.group(0)"
   ]
  },
  {
   "cell_type": "code",
   "execution_count": 19,
   "id": "d691b05f",
   "metadata": {},
   "outputs": [
    {
     "data": {
      "text/plain": [
       "'Lew'"
      ]
     },
     "execution_count": 19,
     "metadata": {},
     "output_type": "execute_result"
    }
   ],
   "source": [
    "m = re.search('(?<=Damian)Lew', 'DamianLew')\n",
    "m.group(0)"
   ]
  },
  {
   "cell_type": "code",
   "execution_count": 21,
   "id": "6b31455f",
   "metadata": {},
   "outputs": [
    {
     "data": {
      "text/plain": [
       "'bank'"
      ]
     },
     "execution_count": 21,
     "metadata": {},
     "output_type": "execute_result"
    }
   ],
   "source": [
    "m = re.search('(?<=bank)bank', 'bankbankbank')\n",
    "m.group(0)"
   ]
  },
  {
   "cell_type": "code",
   "execution_count": 22,
   "id": "d6cfd486",
   "metadata": {},
   "outputs": [
    {
     "data": {
      "text/plain": [
       "'egg'"
      ]
     },
     "execution_count": 22,
     "metadata": {},
     "output_type": "execute_result"
    }
   ],
   "source": [
    "m = re.search(r'(?<=-)\\w+', 'spam-egg')\n",
    "m.group(0)"
   ]
  },
  {
   "cell_type": "code",
   "execution_count": 24,
   "id": "6099ca06",
   "metadata": {},
   "outputs": [
    {
     "data": {
      "text/plain": [
       "'lew'"
      ]
     },
     "execution_count": 24,
     "metadata": {},
     "output_type": "execute_result"
    }
   ],
   "source": [
    "m = re.search(r'(?<=\\|)\\w+', 'dam|lew')\n",
    "m.group(0)"
   ]
  },
  {
   "cell_type": "markdown",
   "id": "6df2fde4",
   "metadata": {},
   "source": [
    "(?<=!...) matches if the current position in the string is not preceded by a match for ... .\\\n",
    "This is called a **negative lookbehind assertion**."
   ]
  },
  {
   "cell_type": "markdown",
   "id": "d87dea20",
   "metadata": {},
   "source": [
    "# Email validation"
   ]
  },
  {
   "cell_type": "code",
   "execution_count": 39,
   "id": "07e723ce",
   "metadata": {},
   "outputs": [
    {
     "data": {
      "text/plain": [
       "'user@host.com'"
      ]
     },
     "execution_count": 39,
     "metadata": {},
     "output_type": "execute_result"
    }
   ],
   "source": [
    "email_match = 'user@host.com'\n",
    "\n",
    "\n",
    "pattern = '(<)?(\\w+@\\w+(?:\\.\\w+)+)(?(1)>$)'\n",
    "\n",
    "m = re.search(pattern, email_match)\n",
    "m.group(0)"
   ]
  },
  {
   "cell_type": "markdown",
   "id": "768d3c14",
   "metadata": {},
   "source": [
    "- \\A - matches only at the start of the string\n",
    "- \\b - matches the empty string, but only at the beginning or end of a word\n",
    "- \\B - matches the empty string, but only when it is not at the beginning or end of a word.\n",
    "- \\d - matches any unicode decimal digit: this is equivalent to [0-9]"
   ]
  },
  {
   "cell_type": "code",
   "execution_count": null,
   "id": "4f355f62",
   "metadata": {},
   "outputs": [],
   "source": []
  }
 ],
 "metadata": {
  "kernelspec": {
   "display_name": "Python 3 (ipykernel)",
   "language": "python",
   "name": "python3"
  },
  "language_info": {
   "codemirror_mode": {
    "name": "ipython",
    "version": 3
   },
   "file_extension": ".py",
   "mimetype": "text/x-python",
   "name": "python",
   "nbconvert_exporter": "python",
   "pygments_lexer": "ipython3",
   "version": "3.9.13"
  }
 },
 "nbformat": 4,
 "nbformat_minor": 5
}
